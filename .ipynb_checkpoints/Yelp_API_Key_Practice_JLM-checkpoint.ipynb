{
 "cells": [
  {
   "cell_type": "markdown",
   "id": "b8b94380",
   "metadata": {},
   "source": [
    "# Yelp API\n",
    "---\n",
    "\n",
    "Author: Jackson Muehlbauer\n",
    "\n",
    "Date: 2/26/2023"
   ]
  },
  {
   "cell_type": "code",
   "execution_count": 1,
   "id": "428355da",
   "metadata": {},
   "outputs": [],
   "source": [
    "# imports\n",
    "import json\n",
    "import pandas as pd\n",
    "from yelpapi import YelpAPI"
   ]
  },
  {
   "cell_type": "code",
   "execution_count": 2,
   "id": "74f61eb6",
   "metadata": {},
   "outputs": [
    {
     "data": {
      "text/plain": [
       "dict_keys(['client-id', 'api-key'])"
      ]
     },
     "execution_count": 2,
     "metadata": {},
     "output_type": "execute_result"
    }
   ],
   "source": [
    "with open('/Users/jacksonmuehlbauer/.secret/yelp_api.json') as f:\n",
    "    login = json.load(f)\n",
    "\n",
    "login.keys()"
   ]
  }
 ],
 "metadata": {
  "kernelspec": {
   "display_name": "Python (dojo-env)",
   "language": "python",
   "name": "dojo-env"
  },
  "language_info": {
   "codemirror_mode": {
    "name": "ipython",
    "version": 3
   },
   "file_extension": ".py",
   "mimetype": "text/x-python",
   "name": "python",
   "nbconvert_exporter": "python",
   "pygments_lexer": "ipython3",
   "version": "3.9.15"
  },
  "toc": {
   "base_numbering": 1,
   "nav_menu": {},
   "number_sections": false,
   "sideBar": true,
   "skip_h1_title": false,
   "title_cell": "Table of Contents",
   "title_sidebar": "Contents",
   "toc_cell": false,
   "toc_position": {},
   "toc_section_display": true,
   "toc_window_display": false
  }
 },
 "nbformat": 4,
 "nbformat_minor": 5
}

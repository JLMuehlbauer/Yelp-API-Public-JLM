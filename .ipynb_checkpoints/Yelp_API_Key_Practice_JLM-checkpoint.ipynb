{
 "cells": [
  {
   "cell_type": "markdown",
   "id": "b8b94380",
   "metadata": {},
   "source": [
    "# Yelp API\n",
    "---\n",
    "\n",
    "Author: Jackson Muehlbauer\n",
    "\n",
    "Date: 2/26/2023"
   ]
  },
  {
   "cell_type": "code",
   "execution_count": 1,
   "id": "428355da",
   "metadata": {},
   "outputs": [],
   "source": [
    "# imports\n",
    "import json\n",
    "import pandas as pd\n",
    "from yelpapi import YelpAPI"
   ]
  },
  {
   "cell_type": "code",
   "execution_count": 2,
   "id": "74f61eb6",
   "metadata": {},
   "outputs": [
    {
     "data": {
      "text/plain": [
       "dict_keys(['client-id', 'api-key'])"
      ]
     },
     "execution_count": 2,
     "metadata": {},
     "output_type": "execute_result"
    }
   ],
   "source": [
    "with open('/Users/jacksonmuehlbauer/.secret/yelp_api.json') as f:\n",
    "    login = json.load(f)\n",
    "\n",
    "login.keys()"
   ]
  },
  {
   "cell_type": "code",
   "execution_count": 3,
   "id": "87c2e261",
   "metadata": {},
   "outputs": [
    {
     "data": {
      "text/plain": [
       "<yelpapi.yelpapi.YelpAPI at 0x108b91790>"
      ]
     },
     "execution_count": 3,
     "metadata": {},
     "output_type": "execute_result"
    }
   ],
   "source": [
    "yelp_api = YelpAPI(login['api-key'], timeout_s=5.0)\n",
    "yelp_api"
   ]
  },
  {
   "cell_type": "code",
   "execution_count": 4,
   "id": "d14adeaa",
   "metadata": {},
   "outputs": [
    {
     "name": "stdout",
     "output_type": "stream",
     "text": [
      "<class 'dict'>\n"
     ]
    },
    {
     "data": {
      "text/plain": [
       "dict_keys(['businesses', 'total', 'region'])"
      ]
     },
     "execution_count": 4,
     "metadata": {},
     "output_type": "execute_result"
    }
   ],
   "source": [
    "# API call\n",
    "\n",
    "search_results = yelp_api.search_query(location = 'Minneapolis', term = 'ramen')\n",
    "\n",
    "print(type(search_results))\n",
    "search_results.keys()"
   ]
  },
  {
   "cell_type": "code",
   "execution_count": 5,
   "id": "1881e443",
   "metadata": {},
   "outputs": [
    {
     "data": {
      "text/plain": [
       "240"
      ]
     },
     "execution_count": 5,
     "metadata": {},
     "output_type": "execute_result"
    }
   ],
   "source": [
    "# How many results\n",
    "search_results['total']"
   ]
  },
  {
   "cell_type": "code",
   "execution_count": 6,
   "id": "3e7d01f7",
   "metadata": {},
   "outputs": [
    {
     "data": {
      "text/html": [
       "<div>\n",
       "<style scoped>\n",
       "    .dataframe tbody tr th:only-of-type {\n",
       "        vertical-align: middle;\n",
       "    }\n",
       "\n",
       "    .dataframe tbody tr th {\n",
       "        vertical-align: top;\n",
       "    }\n",
       "\n",
       "    .dataframe thead th {\n",
       "        text-align: right;\n",
       "    }\n",
       "</style>\n",
       "<table border=\"1\" class=\"dataframe\">\n",
       "  <thead>\n",
       "    <tr style=\"text-align: right;\">\n",
       "      <th></th>\n",
       "      <th>id</th>\n",
       "      <th>alias</th>\n",
       "      <th>name</th>\n",
       "      <th>image_url</th>\n",
       "      <th>is_closed</th>\n",
       "      <th>url</th>\n",
       "      <th>review_count</th>\n",
       "      <th>categories</th>\n",
       "      <th>rating</th>\n",
       "      <th>coordinates</th>\n",
       "      <th>transactions</th>\n",
       "      <th>price</th>\n",
       "      <th>location</th>\n",
       "      <th>phone</th>\n",
       "      <th>display_phone</th>\n",
       "      <th>distance</th>\n",
       "    </tr>\n",
       "  </thead>\n",
       "  <tbody>\n",
       "    <tr>\n",
       "      <th>0</th>\n",
       "      <td>94ciL-h9yS6pm0BOFzjLEA</td>\n",
       "      <td>kyuramen-eagan-eagan</td>\n",
       "      <td>Kyuramen - Eagan</td>\n",
       "      <td>https://s3-media1.fl.yelpcdn.com/bphoto/DQXmRt...</td>\n",
       "      <td>False</td>\n",
       "      <td>https://www.yelp.com/biz/kyuramen-eagan-eagan?...</td>\n",
       "      <td>71</td>\n",
       "      <td>[{'alias': 'ramen', 'title': 'Ramen'}, {'alias...</td>\n",
       "      <td>4.0</td>\n",
       "      <td>{'latitude': 44.83054, 'longitude': -93.16147}</td>\n",
       "      <td>[restaurant_reservation, delivery, pickup]</td>\n",
       "      <td>$$</td>\n",
       "      <td>{'address1': '1278 Town Centre Dr', 'address2'...</td>\n",
       "      <td>+19526001032</td>\n",
       "      <td>(952) 600-1032</td>\n",
       "      <td>18105.276758</td>\n",
       "    </tr>\n",
       "    <tr>\n",
       "      <th>1</th>\n",
       "      <td>xoq8XRgV5f031ZI3aHrSFg</td>\n",
       "      <td>ramen-kazama-minneapolis</td>\n",
       "      <td>Ramen Kazama</td>\n",
       "      <td>https://s3-media1.fl.yelpcdn.com/bphoto/Bbal0I...</td>\n",
       "      <td>False</td>\n",
       "      <td>https://www.yelp.com/biz/ramen-kazama-minneapo...</td>\n",
       "      <td>385</td>\n",
       "      <td>[{'alias': 'ramen', 'title': 'Ramen'}]</td>\n",
       "      <td>4.0</td>\n",
       "      <td>{'latitude': 44.9410781860352, 'longitude': -9...</td>\n",
       "      <td>[delivery, pickup]</td>\n",
       "      <td>$$</td>\n",
       "      <td>{'address1': '3400 Nicollet Ave S', 'address2'...</td>\n",
       "      <td>+16123536160</td>\n",
       "      <td>(612) 353-6160</td>\n",
       "      <td>2884.902824</td>\n",
       "    </tr>\n",
       "  </tbody>\n",
       "</table>\n",
       "</div>"
      ],
      "text/plain": [
       "                       id                     alias              name  \\\n",
       "0  94ciL-h9yS6pm0BOFzjLEA      kyuramen-eagan-eagan  Kyuramen - Eagan   \n",
       "1  xoq8XRgV5f031ZI3aHrSFg  ramen-kazama-minneapolis      Ramen Kazama   \n",
       "\n",
       "                                           image_url  is_closed  \\\n",
       "0  https://s3-media1.fl.yelpcdn.com/bphoto/DQXmRt...      False   \n",
       "1  https://s3-media1.fl.yelpcdn.com/bphoto/Bbal0I...      False   \n",
       "\n",
       "                                                 url  review_count  \\\n",
       "0  https://www.yelp.com/biz/kyuramen-eagan-eagan?...            71   \n",
       "1  https://www.yelp.com/biz/ramen-kazama-minneapo...           385   \n",
       "\n",
       "                                          categories  rating  \\\n",
       "0  [{'alias': 'ramen', 'title': 'Ramen'}, {'alias...     4.0   \n",
       "1             [{'alias': 'ramen', 'title': 'Ramen'}]     4.0   \n",
       "\n",
       "                                         coordinates  \\\n",
       "0     {'latitude': 44.83054, 'longitude': -93.16147}   \n",
       "1  {'latitude': 44.9410781860352, 'longitude': -9...   \n",
       "\n",
       "                                 transactions price  \\\n",
       "0  [restaurant_reservation, delivery, pickup]    $$   \n",
       "1                          [delivery, pickup]    $$   \n",
       "\n",
       "                                            location         phone  \\\n",
       "0  {'address1': '1278 Town Centre Dr', 'address2'...  +19526001032   \n",
       "1  {'address1': '3400 Nicollet Ave S', 'address2'...  +16123536160   \n",
       "\n",
       "    display_phone      distance  \n",
       "0  (952) 600-1032  18105.276758  \n",
       "1  (612) 353-6160   2884.902824  "
      ]
     },
     "execution_count": 6,
     "metadata": {},
     "output_type": "execute_result"
    }
   ],
   "source": [
    "# Make DataFrame of the businesses\n",
    "\n",
    "biz = pd.DataFrame(search_results['businesses'])\n",
    "biz.head(2)"
   ]
  },
  {
   "cell_type": "code",
   "execution_count": 7,
   "id": "b4c81721",
   "metadata": {},
   "outputs": [
    {
     "name": "stdout",
     "output_type": "stream",
     "text": [
      "<class 'pandas.core.frame.DataFrame'>\n",
      "RangeIndex: 20 entries, 0 to 19\n",
      "Data columns (total 16 columns):\n",
      " #   Column         Non-Null Count  Dtype  \n",
      "---  ------         --------------  -----  \n",
      " 0   id             20 non-null     object \n",
      " 1   alias          20 non-null     object \n",
      " 2   name           20 non-null     object \n",
      " 3   image_url      20 non-null     object \n",
      " 4   is_closed      20 non-null     bool   \n",
      " 5   url            20 non-null     object \n",
      " 6   review_count   20 non-null     int64  \n",
      " 7   categories     20 non-null     object \n",
      " 8   rating         20 non-null     float64\n",
      " 9   coordinates    20 non-null     object \n",
      " 10  transactions   20 non-null     object \n",
      " 11  price          13 non-null     object \n",
      " 12  location       20 non-null     object \n",
      " 13  phone          20 non-null     object \n",
      " 14  display_phone  20 non-null     object \n",
      " 15  distance       20 non-null     float64\n",
      "dtypes: bool(1), float64(2), int64(1), object(12)\n",
      "memory usage: 2.5+ KB\n"
     ]
    }
   ],
   "source": [
    "biz.info()"
   ]
  },
  {
   "cell_type": "code",
   "execution_count": 8,
   "id": "d8ae93e3",
   "metadata": {},
   "outputs": [
    {
     "data": {
      "text/html": [
       "<div>\n",
       "<style scoped>\n",
       "    .dataframe tbody tr th:only-of-type {\n",
       "        vertical-align: middle;\n",
       "    }\n",
       "\n",
       "    .dataframe tbody tr th {\n",
       "        vertical-align: top;\n",
       "    }\n",
       "\n",
       "    .dataframe thead th {\n",
       "        text-align: right;\n",
       "    }\n",
       "</style>\n",
       "<table border=\"1\" class=\"dataframe\">\n",
       "  <thead>\n",
       "    <tr style=\"text-align: right;\">\n",
       "      <th></th>\n",
       "      <th>id</th>\n",
       "      <th>alias</th>\n",
       "      <th>name</th>\n",
       "      <th>image_url</th>\n",
       "      <th>is_closed</th>\n",
       "      <th>url</th>\n",
       "      <th>review_count</th>\n",
       "      <th>categories</th>\n",
       "      <th>rating</th>\n",
       "      <th>coordinates</th>\n",
       "      <th>transactions</th>\n",
       "      <th>price</th>\n",
       "      <th>location</th>\n",
       "      <th>phone</th>\n",
       "      <th>display_phone</th>\n",
       "      <th>distance</th>\n",
       "    </tr>\n",
       "  </thead>\n",
       "  <tbody>\n",
       "    <tr>\n",
       "      <th>0</th>\n",
       "      <td>KAgI00gIx_t5AXhCs3x9BQ</td>\n",
       "      <td>ichiddo-ramen-bloomington</td>\n",
       "      <td>Ichiddo Ramen</td>\n",
       "      <td>https://s3-media4.fl.yelpcdn.com/bphoto/vOdUt8...</td>\n",
       "      <td>False</td>\n",
       "      <td>https://www.yelp.com/biz/ichiddo-ramen-bloomin...</td>\n",
       "      <td>17</td>\n",
       "      <td>[{'alias': 'ramen', 'title': 'Ramen'}]</td>\n",
       "      <td>3.5</td>\n",
       "      <td>{'latitude': 44.855983332522186, 'longitude': ...</td>\n",
       "      <td>[pickup, delivery]</td>\n",
       "      <td>$$</td>\n",
       "      <td>{'address1': '322 Central Pkwy', 'address2': '...</td>\n",
       "      <td>+19526812358</td>\n",
       "      <td>(952) 681-2358</td>\n",
       "      <td>12759.968085</td>\n",
       "    </tr>\n",
       "    <tr>\n",
       "      <th>1</th>\n",
       "      <td>Qfi2-C45fk48c0JG4gVXbA</td>\n",
       "      <td>young-man-minneapolis</td>\n",
       "      <td>Young Man</td>\n",
       "      <td>https://s3-media1.fl.yelpcdn.com/bphoto/VJJ-TK...</td>\n",
       "      <td>False</td>\n",
       "      <td>https://www.yelp.com/biz/young-man-minneapolis...</td>\n",
       "      <td>53</td>\n",
       "      <td>[{'alias': 'indonesian', 'title': 'Indonesian'...</td>\n",
       "      <td>5.0</td>\n",
       "      <td>{'latitude': 44.934536, 'longitude': -93.278038}</td>\n",
       "      <td>[delivery]</td>\n",
       "      <td>$$</td>\n",
       "      <td>{'address1': '3752 Nicollet Ave', 'address2': ...</td>\n",
       "      <td>+19294442705</td>\n",
       "      <td>(929) 444-2705</td>\n",
       "      <td>3586.981581</td>\n",
       "    </tr>\n",
       "  </tbody>\n",
       "</table>\n",
       "</div>"
      ],
      "text/plain": [
       "                       id                      alias           name  \\\n",
       "0  KAgI00gIx_t5AXhCs3x9BQ  ichiddo-ramen-bloomington  Ichiddo Ramen   \n",
       "1  Qfi2-C45fk48c0JG4gVXbA      young-man-minneapolis      Young Man   \n",
       "\n",
       "                                           image_url  is_closed  \\\n",
       "0  https://s3-media4.fl.yelpcdn.com/bphoto/vOdUt8...      False   \n",
       "1  https://s3-media1.fl.yelpcdn.com/bphoto/VJJ-TK...      False   \n",
       "\n",
       "                                                 url  review_count  \\\n",
       "0  https://www.yelp.com/biz/ichiddo-ramen-bloomin...            17   \n",
       "1  https://www.yelp.com/biz/young-man-minneapolis...            53   \n",
       "\n",
       "                                          categories  rating  \\\n",
       "0             [{'alias': 'ramen', 'title': 'Ramen'}]     3.5   \n",
       "1  [{'alias': 'indonesian', 'title': 'Indonesian'...     5.0   \n",
       "\n",
       "                                         coordinates        transactions  \\\n",
       "0  {'latitude': 44.855983332522186, 'longitude': ...  [pickup, delivery]   \n",
       "1   {'latitude': 44.934536, 'longitude': -93.278038}          [delivery]   \n",
       "\n",
       "  price                                           location         phone  \\\n",
       "0    $$  {'address1': '322 Central Pkwy', 'address2': '...  +19526812358   \n",
       "1    $$  {'address1': '3752 Nicollet Ave', 'address2': ...  +19294442705   \n",
       "\n",
       "    display_phone      distance  \n",
       "0  (952) 681-2358  12759.968085  \n",
       "1  (929) 444-2705   3586.981581  "
      ]
     },
     "execution_count": 8,
     "metadata": {},
     "output_type": "execute_result"
    }
   ],
   "source": [
    "# Get second page of businesses\n",
    "search_20 = yelp_api.search_query(location = 'Minneapolis', term = 'ramen', offset = 20)\n",
    "\n",
    "# Add to dataframe\n",
    "biz20 = pd.DataFrame(search_20['businesses'])\n",
    "biz20.head(2)"
   ]
  },
  {
   "cell_type": "code",
   "execution_count": 10,
   "id": "41fc0bed",
   "metadata": {},
   "outputs": [
    {
     "data": {
      "text/plain": [
       "(40, 16)"
      ]
     },
     "execution_count": 10,
     "metadata": {},
     "output_type": "execute_result"
    }
   ],
   "source": [
    "# concatenate the dataframes\n",
    "\n",
    "df = pd.concat([biz, biz20], axis = 0, ignore_index = True)\n",
    "df.shape"
   ]
  },
  {
   "cell_type": "code",
   "execution_count": 12,
   "id": "97a045a2",
   "metadata": {},
   "outputs": [],
   "source": [
    "# Make the businesses dataframe as a records-oriented JSON file\n",
    "\n",
    "biz_json = df.to_json(orient = 'records')"
   ]
  },
  {
   "cell_type": "code",
   "execution_count": 13,
   "id": "240c674d",
   "metadata": {},
   "outputs": [],
   "source": [
    "# Save the JSON file\n",
    "\n",
    "with open('minneapolis_ramen.json', 'w') as f:\n",
    "    json.dump(biz_json, f)"
   ]
  }
 ],
 "metadata": {
  "kernelspec": {
   "display_name": "Python (dojo-env)",
   "language": "python",
   "name": "dojo-env"
  },
  "language_info": {
   "codemirror_mode": {
    "name": "ipython",
    "version": 3
   },
   "file_extension": ".py",
   "mimetype": "text/x-python",
   "name": "python",
   "nbconvert_exporter": "python",
   "pygments_lexer": "ipython3",
   "version": "3.9.15"
  },
  "toc": {
   "base_numbering": 1,
   "nav_menu": {},
   "number_sections": false,
   "sideBar": true,
   "skip_h1_title": false,
   "title_cell": "Table of Contents",
   "title_sidebar": "Contents",
   "toc_cell": false,
   "toc_position": {},
   "toc_section_display": true,
   "toc_window_display": false
  }
 },
 "nbformat": 4,
 "nbformat_minor": 5
}
